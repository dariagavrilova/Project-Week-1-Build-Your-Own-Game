{
 "cells": [
  {
   "cell_type": "code",
   "execution_count": 4,
   "metadata": {},
   "outputs": [],
   "source": [
    "import random\n"
   ]
  },
  {
   "cell_type": "code",
   "execution_count": 5,
   "metadata": {},
   "outputs": [],
   "source": [
    "def lets_play():\n",
    "    print(\"Lets play Hangman - My favourite food\")"
   ]
  },
  {
   "cell_type": "code",
   "execution_count": 6,
   "metadata": {},
   "outputs": [
    {
     "name": "stdout",
     "output_type": "stream",
     "text": [
      "Lets play Hangman - My favourite food\n"
     ]
    }
   ],
   "source": [
    "lets_play()"
   ]
  },
  {
   "cell_type": "code",
   "execution_count": 7,
   "metadata": {},
   "outputs": [],
   "source": [
    "words_list=[\"steak\",\"chicken\",\"pizza\",\"burger\",\"cheese\"]\n",
    "word_to_guess=random.choice(words_list)\n",
    "hint=\"scib\"\n",
    "mistakes=5"
   ]
  },
  {
   "cell_type": "code",
   "execution_count": null,
   "metadata": {},
   "outputs": [
    {
     "name": "stdout",
     "output_type": "stream",
     "text": [
      "s _ _ _ _ \n",
      "guess a letter:z\n",
      "No\n",
      "4 more turns\n",
      "  |  \n",
      "s _ _ _ _ \n",
      "guess a letter:z\n",
      "No\n",
      "3 more turns\n",
      "  |  \n",
      "  O  \n",
      "s _ _ _ _ \n",
      "guess a letter:z\n",
      "No\n",
      "2 more turns\n",
      "  |  \n",
      "  O  \n",
      " /|\\ \n",
      "s _ _ _ _ "
     ]
    }
   ],
   "source": [
    "while mistakes>0:\n",
    "    not_guessed_letter=0\n",
    "    for letter in word_to_guess:\n",
    "        if letter in hint:\n",
    "            print(letter,end=\" \")\n",
    "        else:\n",
    "            print(\"_\",end=\" \")\n",
    "            not_guessed_letter=not_guessed_letter+1\n",
    "    print\n",
    "    if not_guessed_letter==0:\n",
    "        print (\"You guessed it! Now you know something about my favorite food!\")\n",
    "        break\n",
    "    your_guess=input(\"\\nguess a letter:\")\n",
    "    hint+=your_guess\n",
    "    if your_guess not in word_to_guess:\n",
    "        mistakes = mistakes -1\n",
    "        hint+=your_guess\n",
    "        print (\"No\")\n",
    "        print (mistakes, \"more turns\")\n",
    "        if mistakes < 5: print ('  |  ')\n",
    "        if mistakes < 4: print ('  O  ')\n",
    "        if mistakes < 3: print (' /|\\ ')\n",
    "        if mistakes < 2: print ('  |  ')\n",
    "        if mistakes < 1: print (' / \\ ')\n",
    "        if mistakes == 0:\n",
    "             print (\"I guessed\", word_to_guess)\n",
    "    \n",
    "        "
   ]
  },
  {
   "cell_type": "code",
   "execution_count": null,
   "metadata": {},
   "outputs": [],
   "source": []
  }
 ],
 "metadata": {
  "kernelspec": {
   "display_name": "Python 3",
   "language": "python",
   "name": "python3"
  },
  "language_info": {
   "codemirror_mode": {
    "name": "ipython",
    "version": 3
   },
   "file_extension": ".py",
   "mimetype": "text/x-python",
   "name": "python",
   "nbconvert_exporter": "python",
   "pygments_lexer": "ipython3",
   "version": "3.8.6"
  }
 },
 "nbformat": 4,
 "nbformat_minor": 4
}
